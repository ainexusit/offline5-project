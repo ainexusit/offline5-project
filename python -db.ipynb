{
 "cells": [
  {
   "cell_type": "code",
   "execution_count": 1,
   "id": "d0d8347d-1968-4d4f-acdc-2515fbd753d9",
   "metadata": {},
   "outputs": [
    {
     "name": "stdout",
     "output_type": "stream",
     "text": [
      "Requirement already satisfied: pymysql in c:\\users\\ai nexut it\\anaconda3\\lib\\site-packages (1.1.1)\n"
     ]
    }
   ],
   "source": [
    "!pip install pymysql"
   ]
  },
  {
   "cell_type": "code",
   "execution_count": 2,
   "id": "b5444083-8a06-4fb4-a460-a338bee7f66e",
   "metadata": {},
   "outputs": [],
   "source": [
    "import pymysql"
   ]
  },
  {
   "cell_type": "code",
   "execution_count": 4,
   "id": "ea9f769c-6709-4d88-ada0-7ad1a58e88ea",
   "metadata": {},
   "outputs": [],
   "source": [
    "conn =  pymysql.connect(host='localhost',port=3306,user='root',password='root',database='offline6')"
   ]
  },
  {
   "cell_type": "code",
   "execution_count": 5,
   "id": "6c5cb343-d7f6-4f6a-bcab-70de62567dd7",
   "metadata": {},
   "outputs": [],
   "source": [
    "cur = conn.cursor()"
   ]
  },
  {
   "cell_type": "code",
   "execution_count": 7,
   "id": "fc5915f6-1e2b-4376-adcb-10fdb72720e8",
   "metadata": {},
   "outputs": [],
   "source": [
    "#cur.execute(\"create table emp(id int,name varchar(20),city varchar(20))\")"
   ]
  },
  {
   "cell_type": "code",
   "execution_count": 8,
   "id": "1f942de2-75e0-45bd-ab2e-7e8e53eb6a04",
   "metadata": {},
   "outputs": [],
   "source": [
    "q = \"\"\"\n",
    "insert into emp values(101,'keshav','pune')\n",
    "\"\"\""
   ]
  },
  {
   "cell_type": "code",
   "execution_count": 11,
   "id": "3df15b03-fe7a-4749-b502-9f0471e991d4",
   "metadata": {},
   "outputs": [],
   "source": [
    "cur.execute(q)\n",
    "conn.commit()"
   ]
  },
  {
   "cell_type": "code",
   "execution_count": 15,
   "id": "089ce9b6-f41b-44b8-a0e0-934c5b664cd0",
   "metadata": {},
   "outputs": [
    {
     "name": "stdout",
     "output_type": "stream",
     "text": [
      "Data Successfully loaded\n"
     ]
    }
   ],
   "source": [
    "import csv\n",
    "conn =  pymysql.connect(host='localhost',port=3306,user='root',password='root',database='offline6')\n",
    "cur = conn.cursor()\n",
    "with open(\"sample_100_records.csv\") as fp:\n",
    "    r =  csv.DictReader(fp)\n",
    "    for row in r:\n",
    "        q = \"insert into emp_new values({},'{}',{},'{}')\".format(row['id'],row['name'],row['sal'],row['city'])\n",
    "        cur.execute(q)\n",
    "        conn.commit()\n",
    "print(\"Data Successfully loaded\")"
   ]
  },
  {
   "cell_type": "code",
   "execution_count": null,
   "id": "3b09a665-3ad0-4eff-a7ec-fb7e0db5a7e9",
   "metadata": {},
   "outputs": [],
   "source": []
  }
 ],
 "metadata": {
  "kernelspec": {
   "display_name": "Python 3 (ipykernel)",
   "language": "python",
   "name": "python3"
  },
  "language_info": {
   "codemirror_mode": {
    "name": "ipython",
    "version": 3
   },
   "file_extension": ".py",
   "mimetype": "text/x-python",
   "name": "python",
   "nbconvert_exporter": "python",
   "pygments_lexer": "ipython3",
   "version": "3.12.7"
  }
 },
 "nbformat": 4,
 "nbformat_minor": 5
}
